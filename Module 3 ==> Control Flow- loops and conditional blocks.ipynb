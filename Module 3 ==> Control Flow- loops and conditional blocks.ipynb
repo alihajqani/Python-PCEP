{
 "cells": [
  {
   "cell_type": "markdown",
   "id": "350d2414",
   "metadata": {},
   "source": [
    "# Module 3: Control Flow- loops and conditional blocks\n",
    "###### time: about 90 min\n",
    "\n",
    "* conditional statements: if, if-else, if-elif, if-elif-else\n",
    "* multiple conditional statements multiple if statement\n",
    "* the pass instruction\n",
    "* Loops: while, for, range(). in\n",
    "* Iteration iterating through sequences\n",
    "* loops continued: while-else, for-else\n",
    "* nesting loops and conditional statements\n",
    "* controlling loop execution: break, continue"
   ]
  }
 ],
 "metadata": {
  "kernelspec": {
   "display_name": "Python 3 (ipykernel)",
   "language": "python",
   "name": "python3"
  },
  "language_info": {
   "codemirror_mode": {
    "name": "ipython",
    "version": 3
   },
   "file_extension": ".py",
   "mimetype": "text/x-python",
   "name": "python",
   "nbconvert_exporter": "python",
   "pygments_lexer": "ipython3",
   "version": "3.10.2"
  }
 },
 "nbformat": 4,
 "nbformat_minor": 5
}
