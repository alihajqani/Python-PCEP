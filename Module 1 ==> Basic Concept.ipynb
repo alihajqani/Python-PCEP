{
 "cells": [
  {
   "cell_type": "markdown",
   "id": "ecf0fc19",
   "metadata": {},
   "source": [
    "# Module 1: Basic Concept\n",
    "###### time: about 90 min\n",
    "\n",
    "* basic concepts\n",
    "* interpreter, compiler, lexis, semantics, syntax, keywords, etc.\n",
    "* literal-integer, Boolean, Floats, scientific notation, string\n",
    "* comment\n",
    "* print()\n",
    "* input()\n",
    "* other numeral systems - binary, decimal, octal, and hexadecimal\n",
    "* aritmetic (numeric) operators\n",
    "* string operators\n",
    "* assignments and shortcut operators"
   ]
  },
  {
   "cell_type": "markdown",
   "id": "2e4c0232",
   "metadata": {},
   "source": [
    "## Python Identifiers\n",
    "A Python identifier is a name used to identify a variable, function, class, module or other object. An identifier starts with a letter A to Z or a to z or an underscore (_) followed by zero or more letters, underscores and digits (0 to 9).\n",
    "\n",
    "Python does not allow punctuation characters such as @, $, and % within identifiers. Python is a case sensitive programming language. Thus, Manpower and manpower are two different identifiers in Python.\n",
    "\n",
    "Here are naming conventions for Python identifiers −\n",
    "\n",
    "* Class names start with an uppercase letter. All other identifiers start with a lowercase letter.\n",
    "\n",
    "* Starting an identifier with a single leading underscore indicates that the identifier is private.\n",
    "\n",
    "* Starting an identifier with two leading underscores indicates a strongly private identifier.\n",
    "\n",
    "* If the identifier also ends with two trailing underscores, the identifier is a language-defined special name."
   ]
  },
  {
   "cell_type": "markdown",
   "id": "63a7afd2",
   "metadata": {},
   "source": [
    "## Reserved Words\n",
    "\n",
    "\n",
    "|---------| Keywords |---------|\n",
    "| :---    |  :----:  |    ---: |\n",
    "| and     | exec     | not     |\n",
    "| assert  | finally  | or      |\n",
    "| break   | for      | pass    |\n",
    "| class   | from     | print   |\n",
    "| continue| global   | raise   |\n",
    "| def     | if       | return  |\n",
    "| del     | import   | try     |\n",
    "| elif    | in       | while   |\n",
    "| else    | is       | with    |\n",
    "| except  | lambda   | yield   |"
   ]
  },
  {
   "cell_type": "markdown",
   "id": "4d4fc0da",
   "metadata": {},
   "source": [
    "## literal-integer, Boolean, Floats, scientific notation, string"
   ]
  },
  {
   "cell_type": "code",
   "execution_count": 1,
   "id": "8b9d286e",
   "metadata": {},
   "outputs": [
    {
     "name": "stdout",
     "output_type": "stream",
     "text": [
      "Hello world!\n",
      "*************\n",
      "number of students:  10\n",
      "age:  13.5\n",
      "reg:  True\n"
     ]
    }
   ],
   "source": [
    "print('Hello world!')\n",
    "\n",
    "number_of_students = 10\n",
    "age = 13.5\n",
    "reg = True\n",
    "\n",
    "print(\"*************\")\n",
    "print(\"number of students: \", number_of_students)\n",
    "print(\"age: \", age)\n",
    "print(\"reg: \", reg)"
   ]
  },
  {
   "cell_type": "code",
   "execution_count": 2,
   "id": "f91a0621",
   "metadata": {},
   "outputs": [
    {
     "name": "stdout",
     "output_type": "stream",
     "text": [
      "<class 'int'>\n",
      "<class 'float'>\n",
      "<class 'bool'>\n"
     ]
    }
   ],
   "source": [
    "print(type(number_of_students))\n",
    "print(type(age))\n",
    "print(type(reg))"
   ]
  },
  {
   "cell_type": "markdown",
   "id": "8d519406",
   "metadata": {},
   "source": [
    "## comment"
   ]
  },
  {
   "cell_type": "code",
   "execution_count": 3,
   "id": "13aadfc7",
   "metadata": {},
   "outputs": [
    {
     "data": {
      "text/plain": [
       "23"
      ]
     },
     "execution_count": 3,
     "metadata": {},
     "output_type": "execute_result"
    }
   ],
   "source": [
    "# this line is a test for comment\n",
    "temp = 23\n",
    "temp"
   ]
  },
  {
   "cell_type": "markdown",
   "id": "4f99688a",
   "metadata": {},
   "source": [
    "## first my program\n"
   ]
  },
  {
   "cell_type": "code",
   "execution_count": 4,
   "id": "9db442e8",
   "metadata": {},
   "outputs": [
    {
     "name": "stdout",
     "output_type": "stream",
     "text": [
      "Area for \"r = 5\" ==> 3.1415\n"
     ]
    }
   ],
   "source": [
    "r = 1\n",
    "pi = 3.1415\n",
    "print(\"Area for \\\"r = 5\\\" ==>\", r * r * pi)"
   ]
  },
  {
   "cell_type": "markdown",
   "id": "f3f3236d",
   "metadata": {},
   "source": [
    "## input()"
   ]
  },
  {
   "cell_type": "code",
   "execution_count": 5,
   "id": "1a638112",
   "metadata": {},
   "outputs": [
    {
     "name": "stdout",
     "output_type": "stream",
     "text": [
      "pls enter r: 10\n",
      "11\n",
      "<class 'int'>\n"
     ]
    }
   ],
   "source": [
    "r = int(input(\"pls enter r: \"))\n",
    "print(r+1)\n",
    "print(type(r))"
   ]
  },
  {
   "cell_type": "code",
   "execution_count": 6,
   "id": "d4c57cfa",
   "metadata": {},
   "outputs": [
    {
     "name": "stdout",
     "output_type": "stream",
     "text": [
      "pls enter r: 10\n",
      "Area for r:10 = 314.15000000000003 \n",
      "Area =  314.15000000000003\n"
     ]
    }
   ],
   "source": [
    "r = int(input(\"pls enter r: \"))\n",
    "pi = 3.1415\n",
    "print('Area for r:{1} = {0} '.format(r*r*pi, r))\n",
    "print(\"Area = \", r*r*pi)"
   ]
  },
  {
   "cell_type": "markdown",
   "id": "62bd6dc6",
   "metadata": {},
   "source": [
    "## other numeral systems - binary, decimal, octal, and hexadecimal"
   ]
  },
  {
   "cell_type": "code",
   "execution_count": null,
   "id": "d6cc0869",
   "metadata": {},
   "outputs": [],
   "source": []
  },
  {
   "cell_type": "markdown",
   "id": "6aee5b46",
   "metadata": {},
   "source": [
    "## aritmetic (numeric) operators"
   ]
  },
  {
   "cell_type": "code",
   "execution_count": 7,
   "id": "7ecebbcd",
   "metadata": {},
   "outputs": [
    {
     "name": "stdout",
     "output_type": "stream",
     "text": [
      "x + y =>  5\n",
      "x - y =>  -1\n",
      "x / y =>  0.6666666666666666\n",
      "x // y =>  0\n",
      "x * y =>  6\n",
      "x ** y =>  8\n",
      "x % y =>  2\n"
     ]
    }
   ],
   "source": [
    "# + - / * % // **\n",
    "\n",
    "x, y = 2, 3\n",
    "print(\"x + y => \", x + y)\n",
    "print(\"x - y => \", x - y)\n",
    "print(\"x / y => \", x / y)\n",
    "print(\"x // y => \", x // y)\n",
    "print(\"x * y => \", x * y)\n",
    "print(\"x ** y => \", x ** y)\n",
    "print(\"x % y => \", x % y)"
   ]
  },
  {
   "cell_type": "markdown",
   "id": "74ce320b",
   "metadata": {},
   "source": [
    "## string operators"
   ]
  },
  {
   "cell_type": "code",
   "execution_count": 8,
   "id": "9a8a820f",
   "metadata": {},
   "outputs": [
    {
     "name": "stdout",
     "output_type": "stream",
     "text": [
      "ali hajqani\n",
      "alialiali\n",
      "hajqani3\n"
     ]
    }
   ],
   "source": [
    "f_name = \"ali\"\n",
    "l_name = \"hajqani\"\n",
    "\n",
    "print(f_name + \" \" + l_name)\n",
    "print(f_name * 3)\n",
    "print(l_name + \"3\")"
   ]
  },
  {
   "cell_type": "markdown",
   "id": "ee1b1e7e",
   "metadata": {},
   "source": [
    "## assignments and shortcut operators"
   ]
  },
  {
   "cell_type": "code",
   "execution_count": 9,
   "id": "7b7f0121",
   "metadata": {},
   "outputs": [
    {
     "name": "stdout",
     "output_type": "stream",
     "text": [
      "9\n",
      "<class 'int'>\n",
      "45\n",
      "<class 'int'>\n",
      "40\n",
      "<class 'int'>\n",
      "8.0\n",
      "<class 'float'>\n",
      "1.0\n",
      "<class 'float'>\n",
      "1.0\n",
      "<class 'float'>\n"
     ]
    }
   ],
   "source": [
    "# += -= *= /= //= %= **=\n",
    "\n",
    "a, b = 4, 5\n",
    "\n",
    "a += b\n",
    "print(a) # a = 9\n",
    "print(type(a))\n",
    "\n",
    "a *= b\n",
    "print(a)\n",
    "print(type(a))\n",
    "\n",
    "a -= b\n",
    "print(a)\n",
    "print(type(a))\n",
    "\n",
    "a /= b\n",
    "print(a)\n",
    "print(type(a))\n",
    "\n",
    "a //= b\n",
    "print(a)\n",
    "print(type(a))\n",
    "\n",
    "a **= b\n",
    "print(a)\n",
    "print(type(a))"
   ]
  },
  {
   "cell_type": "code",
   "execution_count": 10,
   "id": "c6cf9364",
   "metadata": {},
   "outputs": [
    {
     "data": {
      "text/plain": [
       "3.15"
      ]
     },
     "execution_count": 10,
     "metadata": {},
     "output_type": "execute_result"
    }
   ],
   "source": [
    "a_float = 3.149\n",
    "limited_float = round(a_float, 2)\n",
    "\n",
    "limited_float"
   ]
  }
 ],
 "metadata": {
  "kernelspec": {
   "display_name": "Python 3 (ipykernel)",
   "language": "python",
   "name": "python3"
  },
  "language_info": {
   "codemirror_mode": {
    "name": "ipython",
    "version": 3
   },
   "file_extension": ".py",
   "mimetype": "text/x-python",
   "name": "python",
   "nbconvert_exporter": "python",
   "pygments_lexer": "ipython3",
   "version": "3.10.2"
  }
 },
 "nbformat": 4,
 "nbformat_minor": 5
}
