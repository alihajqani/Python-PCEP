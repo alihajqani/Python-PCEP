{
 "cells": [
  {
   "cell_type": "markdown",
   "id": "68424de7",
   "metadata": {},
   "source": [
    "# PART 2\n",
    "\n",
    "## PYTHON\n",
    "PCEP"
   ]
  },
  {
   "cell_type": "code",
   "execution_count": 3,
   "id": "ceacc049",
   "metadata": {},
   "outputs": [
    {
     "name": "stdout",
     "output_type": "stream",
     "text": [
      "-5\n"
     ]
    }
   ],
   "source": [
    "x = 5\n",
    "\n",
    "print(-x)"
   ]
  },
  {
   "cell_type": "code",
   "execution_count": 6,
   "id": "0947735b",
   "metadata": {
    "collapsed": true
   },
   "outputs": [
    {
     "name": "stdout",
     "output_type": "stream",
     "text": [
      "True\n",
      "False\n",
      "True\n",
      "False\n",
      "True\n",
      "False\n"
     ]
    }
   ],
   "source": [
    "# > < == <= >= !=\n",
    "\n",
    "x, y = 2, 3\n",
    "\n",
    "print(x < y)\n",
    "print(x > y)\n",
    "print(x <= y)\n",
    "print(x >= y)\n",
    "print(x == x)\n",
    "print(x != x)"
   ]
  },
  {
   "cell_type": "code",
   "execution_count": 14,
   "id": "af136ad4",
   "metadata": {},
   "outputs": [
    {
     "name": "stdout",
     "output_type": "stream",
     "text": [
      "5.0 5.0\n",
      "True\n",
      "False\n",
      "True\n"
     ]
    }
   ],
   "source": [
    "x = 5\n",
    "y = 5.0\n",
    "x = float(x)\n",
    "\n",
    "\n",
    "\n",
    "print(x, y)\n",
    "\n",
    "print(y == x)\n",
    "print(y is x)\n",
    "print(y is not x)\n"
   ]
  },
  {
   "cell_type": "code",
   "execution_count": 60,
   "id": "1c8a71db",
   "metadata": {},
   "outputs": [
    {
     "name": "stdout",
     "output_type": "stream",
     "text": [
      "pls enter a text ...hello world!\n",
      "ello w\n",
      "len =  12\n",
      "!dlrow olleh\n",
      "hello world!\n"
     ]
    }
   ],
   "source": [
    "my_str = input(\"pls enter a text ...\")\n",
    "print(my_str[1:7])\n",
    "print(\"len = \", len(my_str))\n",
    "print(my_str[::-1])\n",
    "print(my_str)\n",
    "\n",
    "# h e l l o   w o r l d  !\n",
    "# 0 1 2 3 4 5 6 7 8 9 10 11\n"
   ]
  },
  {
   "cell_type": "code",
   "execution_count": 48,
   "id": "0d519755",
   "metadata": {},
   "outputs": [
    {
     "name": "stdout",
     "output_type": "stream",
     "text": [
      "slm khbi? \\ are khbm\n"
     ]
    }
   ],
   "source": [
    "print(\"slm khbi?  are khbm\")"
   ]
  },
  {
   "cell_type": "code",
   "execution_count": 57,
   "id": "5d50f2a0",
   "metadata": {},
   "outputs": [
    {
     "name": "stdout",
     "output_type": "stream",
     "text": [
      "f_name:mahdi\n",
      "l_name: ahmadi\n"
     ]
    }
   ],
   "source": [
    "f_name = \"mahdi\"\n",
    "l_name = \"ahmadi\"\n",
    "\n",
    "print(\"f_name:\", f_name)\n",
    "print(\"l_name:\", l_name)"
   ]
  }
 ],
 "metadata": {
  "kernelspec": {
   "display_name": "Python 3 (ipykernel)",
   "language": "python",
   "name": "python3"
  },
  "language_info": {
   "codemirror_mode": {
    "name": "ipython",
    "version": 3
   },
   "file_extension": ".py",
   "mimetype": "text/x-python",
   "name": "python",
   "nbconvert_exporter": "python",
   "pygments_lexer": "ipython3",
   "version": "3.10.2"
  }
 },
 "nbformat": 4,
 "nbformat_minor": 5
}
